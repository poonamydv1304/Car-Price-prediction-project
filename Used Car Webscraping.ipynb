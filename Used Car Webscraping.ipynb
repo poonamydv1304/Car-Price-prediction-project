{
 "cells": [
  {
   "cell_type": "code",
   "execution_count": 1,
   "id": "4a69293c",
   "metadata": {},
   "outputs": [],
   "source": [
    "#importing necessary libraries\n",
    "import warnings\n",
    "warnings.simplefilter(\"ignore\")\n",
    "warnings.filterwarnings(\"ignore\")\n",
    "\n",
    "import time, sys\n",
    "import tqdm.notebook as tqdm\n",
    "import pandas as pd\n",
    "import numpy as np\n",
    "\n",
    "import requests\n",
    "import selenium\n",
    "from bs4 import BeautifulSoup\n",
    "from selenium import webdriver\n",
    "from urllib.parse import urljoin\n",
    "from selenium.webdriver.common.by import By\n",
    "from selenium.webdriver.support.ui import WebDriverWait\n",
    "from selenium.webdriver.support import expected_conditions as ec\n",
    "from selenium.common.exceptions import TimeoutException, StaleElementReferenceException\n",
    "from selenium.common.exceptions import NoSuchElementException, ElementClickInterceptedException"
   ]
  },
  {
   "cell_type": "code",
   "execution_count": 2,
   "id": "17549cce",
   "metadata": {},
   "outputs": [],
   "source": [
    "#imorting the website links from where we will scrape data\n",
    "url1 = \"https://www.cardekho.com/\"\n",
    "url2 = \"https://www.olX.in/\"\n",
    "url3 = \"https://www.cars24.com/\"\n",
    "url4 = \"https://www.carwale.com/used-cars/\""
   ]
  },
  {
   "cell_type": "code",
   "execution_count": 3,
   "id": "576bad50",
   "metadata": {},
   "outputs": [
    {
     "name": "stdout",
     "output_type": "stream",
     "text": [
      "Response number from Cars 24 URL is: <Response [403]>\n"
     ]
    }
   ],
   "source": [
    "page = requests.get(url1)\n",
    "print(\"Response number from Cars 24 URL is:\", page) # to show the response output from the webpage\n",
    "soup = BeautifulSoup(page.content)"
   ]
  },
  {
   "cell_type": "code",
   "execution_count": 4,
   "id": "91ca304b",
   "metadata": {},
   "outputs": [],
   "source": [
    "#connecting to chromedriver\n",
    "driver = webdriver.Chrome(r'C:\\Users\\poonam\\Downloads\\chromedriver_win32 (1)\\chromedriver.exe')"
   ]
  },
  {
   "cell_type": "code",
   "execution_count": 5,
   "id": "0b64cff7",
   "metadata": {},
   "outputs": [],
   "source": [
    "#opening website CARS24\n",
    "driver.get(url1)\n",
    "driver.maximize_window()"
   ]
  },
  {
   "cell_type": "code",
   "execution_count": 7,
   "id": "35b824fc",
   "metadata": {},
   "outputs": [],
   "source": [
    "# Fetching urls to navigate location page\n",
    "cities = driver.find_elements(By.XPATH,'//ul[@class=\"listing gsc_col-md-12 gsc_col-lg-12\"]//li/a')"
   ]
  },
  {
   "cell_type": "code",
   "execution_count": 8,
   "id": "fb56c20e",
   "metadata": {},
   "outputs": [],
   "source": [
    "#creating empty list and grtting links for locations\n",
    "city = []\n",
    "for i in cities:\n",
    "    city.append(i.get_attribute('href'))"
   ]
  },
  {
   "cell_type": "code",
   "execution_count": 9,
   "id": "fa6a5f6d",
   "metadata": {},
   "outputs": [
    {
     "data": {
      "text/plain": [
       "['https://www.cardekho.com/used-cars+in+ahmedabad',\n",
       " 'https://www.cardekho.com/used-cars+in+bangalore',\n",
       " 'https://www.cardekho.com/used-cars+in+mumbai',\n",
       " 'https://www.cardekho.com/used-cars+in+jaipur',\n",
       " 'https://www.cardekho.com/used-cars+in+gurgaon',\n",
       " 'https://www.cardekho.com/used-cars+in+delhi-ncr',\n",
       " 'https://www.cardekho.com/used-cars+in+chennai',\n",
       " 'https://www.cardekho.com/used-cars+in+pune',\n",
       " 'https://www.cardekho.com/used-cars+in+hyderabad',\n",
       " 'https://www.cardekho.com/used-cars+in+kolkata',\n",
       " 'https://www.cardekho.com/used-cars+in+agra',\n",
       " 'https://www.cardekho.com/used-cars+in+lucknow']"
      ]
     },
     "execution_count": 9,
     "metadata": {},
     "output_type": "execute_result"
    }
   ],
   "source": [
    "city"
   ]
  },
  {
   "cell_type": "code",
   "execution_count": 10,
   "id": "3dd776f2",
   "metadata": {},
   "outputs": [],
   "source": [
    "#creating empty lists for scraping data\n",
    "Car_brand = []\n",
    "car_price = []\n",
    "kms_driven = []\n",
    "fuel = []\n",
    "transmission = []\n",
    "city_url = []\n",
    "car_urls = []\n",
    "\n",
    "for i in city:\n",
    "    driver.get(i)\n",
    "    time.sleep(3)\n",
    "    \n",
    "    for _ in range(150):\n",
    "        time.sleep(1)\n",
    "        driver.execute_script(\"window.scrollBy(0,1000)\")\n",
    "    current_url = driver.current_url    \n",
    "    car = driver.find_elements(By.XPATH,'//div[@class=\"gsc_col-xs-7  carsName\"]/a')\n",
    "    for i in car:\n",
    "        car_urls.append(i.get_attribute('href'))        # saving all the car urls for further information collecting purposes   \n",
    "        \n",
    "    #fetching car brand and location urls of the used cars\n",
    "    for i in driver.find_elements(By.XPATH,'//div[@class=\"gsc_col-xs-7  carsName\"]/a'):\n",
    "        Car_brand.append(i.text)\n",
    "        city_url.append(current_url)\n",
    "    \n",
    "    #fetching price of the cars\n",
    "    for i in driver.find_elements(By.XPATH,'//span[@class=\"amnt \"]'):\n",
    "        car_price.append(i.text)\n",
    "    \n",
    "    #fetching driven kilometers of the used cars\n",
    "    for i in driver.find_elements(By.XPATH,'//div[@class=\"truncate dotlist-2\"]//div[1]'):\n",
    "        kms_driven.append(i.text)\n",
    "    \n",
    "    #fetching fuel type of the cars\n",
    "    for i in driver.find_elements(By.XPATH,'//div[@class=\"truncate dotlist-2\"]//div[2]'):\n",
    "        fuel.append(i.text)\n",
    "    \n",
    "    #fetching transmission of the cars\n",
    "    for i in driver.find_elements(By.XPATH,'//div[@class=\"truncate dotlist-2\"]//div[3]'):\n",
    "        transmission.append(i.text)"
   ]
  },
  {
   "cell_type": "code",
   "execution_count": null,
   "id": "8aee65ce",
   "metadata": {},
   "outputs": [],
   "source": [
    "#printing length of car features to confirm\n",
    "print(len(car_urls),len(Car_brand), len(city_url), len(car_price), len(kms_driven), len(fuel), len(transmission))"
   ]
  },
  {
   "cell_type": "code",
   "execution_count": 15,
   "id": "90b5cdab",
   "metadata": {},
   "outputs": [],
   "source": [
    "#creating empty list to scrap the specification of the used cars\n",
    "seats = []\n",
    "engine_disp = []\n",
    "milage = []\n",
    "color = []\n",
    "max_power = []\n",
    "front_brake = []\n",
    "rear_brake = []\n",
    "cargo_vol = []\n",
    "height = []\n",
    "width = []\n",
    "length = []\n",
    "weight = []\n",
    "insp_score = []\n",
    "top_speed = []"
   ]
  },
  {
   "cell_type": "code",
   "execution_count": 16,
   "id": "72628c4d",
   "metadata": {},
   "outputs": [],
   "source": [
    "#for loop to get car urls\n",
    "for i in car_urls:\n",
    "    driver.get(i)\n",
    "    time.sleep(2)\n",
    "    \n",
    "    #clicking on view all specifications button to view more features of the cars\n",
    "    try:\n",
    "        view_more = driver.find_element(By.XPATH,'//*[text() = \"View All Specifications\" or text() = \"View More\"]')\n",
    "        driver.execute_script(\"arguments[0].scrollIntoView();\", view_more)\n",
    "        driver.execute_script(\"arguments[0].click();\", view_more)\n",
    "        time.sleep(2)\n",
    "    except NoSuchElementException:\n",
    "        pass\n",
    "    \n",
    "    #fetching engine displacement of the cars\n",
    "    try:\n",
    "        eng = driver.find_element(By.XPATH,'//*[text()=\"Engine\"]/following-sibling::div') \n",
    "        engine_disp.append(eng.text.replace('CC',''))\n",
    "    except NoSuchElementException:\n",
    "        engine_disp.append('-')\n",
    "    \n",
    "    #fetching Mileage of the cars\n",
    "    try:\n",
    "        mil = driver.find_element(By.XPATH,'//*[text()=\"Mileage\"]/following-sibling::div')\n",
    "        milage.append(mil.text)\n",
    "    except NoSuchElementException:\n",
    "        milage.append('-')\n",
    "        \n",
    "    #fetching seating capacity of the cars\n",
    "    try:\n",
    "        sts = driver.find_element(By.XPATH,'//*[text()=\"Seating Capacity\"]/following-sibling::div')\n",
    "        seats.append(sts.text)\n",
    "    except NoSuchElementException:\n",
    "        seats.append('-')\n",
    "        \n",
    "    #fetching colour of the cars\n",
    "    try:\n",
    "        clr = driver.find_element(By.XPATH,'//*[text()=\"Color\"]/following-sibling::div')\n",
    "        color.append(clr.text)\n",
    "    except NoSuchElementException:\n",
    "        color.append('-')\n",
    "        \n",
    "    #fetching Maximum power of the cars\n",
    "    try:\n",
    "        pwr = driver.find_element(By.XPATH,'//*[text()=\"Max Power\"]/following-sibling::div')\n",
    "        max_power.append(pwr.text.replace('bhp',''))\n",
    "    except NoSuchElementException:\n",
    "        max_power.append('-')\n",
    "        \n",
    "    #fetching Front brake type of the cars\n",
    "    try:\n",
    "        fbrk = driver.find_element(By.XPATH,'//*[text()=\"Front Brake Type\"]/following-sibling::div')\n",
    "        front_brake.append(fbrk.text)\n",
    "    except NoSuchElementException:\n",
    "        front_brake.append('-')\n",
    "        \n",
    "    #fetching rear brake type of the cars\n",
    "    try:\n",
    "        rbrk = driver.find_element(By.XPATH,'//*[text()=\"Rear Brake Type\"]/following-sibling::div')\n",
    "        rear_brake.append(rbrk.text)\n",
    "    except NoSuchElementException:\n",
    "        rear_brake.append('-')\n",
    "        \n",
    "    #fetching details of cargo volume of the cars\n",
    "    try:\n",
    "        vol = driver.find_element(By.XPATH,'//*[text()=\"Cargo Volumn\"]/following-sibling::div')\n",
    "        cargo_vol.append(vol.text)\n",
    "    except NoSuchElementException:\n",
    "        cargo_vol.append('-')\n",
    "        \n",
    "    #fetching top speed of the cars\n",
    "    try:\n",
    "        speed = driver.find_element(By.XPATH,'//*[text()=\"Top Speed\"]/following-sibling::div')\n",
    "        top_speed.append(speed.text)\n",
    "    except NoSuchElementException:\n",
    "        top_speed.append('-')\n",
    "        \n",
    "    #fetching height of the cars\n",
    "    try:\n",
    "        hgt = driver.find_element(By.XPATH,'//*[text()=\"Height\"]/following-sibling::div')\n",
    "        height.append(hgt.text.replace('mm',''))\n",
    "    except NoSuchElementException:\n",
    "        height.append('-')\n",
    "        \n",
    "    #fetching width of the cars\n",
    "    try:\n",
    "        wth = driver.find_element(By.XPATH,'//*[text()=\"Width\"]/following-sibling::div')\n",
    "        width.append(wth.text.replace('mm',''))\n",
    "    except NoSuchElementException:\n",
    "        width.append('-')\n",
    "        \n",
    "    #fetching length of the cars\n",
    "    try:\n",
    "        lth = driver.find_element(By.XPATH,'//*[text()=\"Length\"]/following-sibling::div')\n",
    "        length.append(lth.text.replace('mm',''))\n",
    "    except NoSuchElementException:\n",
    "        length.append('-')\n",
    "        \n",
    "    #fetching gross weight of the cars\n",
    "    try:\n",
    "        weigh = driver.find_element(By.XPATH,'//*[text()=\"Gross Weight\"]/following-sibling::div')\n",
    "        weight.append(weigh.text.replace('kg',''))\n",
    "    except NoSuchElementException:\n",
    "        weight.append('-')\n",
    "        \n",
    "    #fetching Inspection score of the cars\n",
    "    try:\n",
    "        insp = driver.find_element(By.XPATH,'//div[@class=\"inspectionRating right-side gsc_col-xs-5 text-right\"]/span')\n",
    "        insp_score.append(insp.text)\n",
    "    except NoSuchElementException:\n",
    "        insp_score.append('-')"
   ]
  },
  {
   "cell_type": "code",
   "execution_count": null,
   "id": "4fd0fd8c",
   "metadata": {},
   "outputs": [],
   "source": [
    "#printing lengths of all the features\n",
    "print(len(seats),len(engine_disp),len(milage),len(color),len(max_power),len(front_brake),len(rear_brake),len(cargo_vol),len(height),len(width),len(length),l"
   ]
  },
  {
   "cell_type": "code",
   "execution_count": 17,
   "id": "a2cc3ce0",
   "metadata": {},
   "outputs": [
    {
     "ename": "SyntaxError",
     "evalue": "EOL while scanning string literal (Temp/ipykernel_5368/2882321600.py, line 3)",
     "output_type": "error",
     "traceback": [
      "\u001b[1;36m  File \u001b[1;32m\"C:\\Users\\poonam\\AppData\\Local\\Temp/ipykernel_5368/2882321600.py\"\u001b[1;36m, line \u001b[1;32m3\u001b[0m\n\u001b[1;33m    df = pd.DataFrame(data, columns = [\"Car_Name\",\"Fuel_type\",\"Running_in_kms\",\"Endine_disp\", \"Gear_transmission\",\"Milage_in_km/ltr\",\"Seating_cap\",\"color\",\"M\u001b[0m\n\u001b[1;37m                                                                                                                                                             ^\u001b[0m\n\u001b[1;31mSyntaxError\u001b[0m\u001b[1;31m:\u001b[0m EOL while scanning string literal\n"
     ]
    }
   ],
   "source": [
    "#creating a dataframe of scraped data\n",
    "data = list(zip(Car_brand,fuel,kms_driven,engine_disp,transmission,milage,seats,color,max_power,front_brake,rear_brake,cargo_vol,height,width,length,weight,insp_score,top_speed,city_url,car_price))\n",
    "df = pd.DataFrame(data, columns = [\"Car_Name\",\"Fuel_type\",\"Running_in_kms\",\"Endine_disp\", \"Gear_transmission\",\"Milage_in_km/ltr\",\"Seating_cap\",\"color\",\"M"
   ]
  },
  {
   "cell_type": "code",
   "execution_count": null,
   "id": "53e2c0c6",
   "metadata": {},
   "outputs": [],
   "source": [
    "#saving the scraped data into excel file\n",
    "df.to_excel(\"Used_Cars.xlsx\")"
   ]
  }
 ],
 "metadata": {
  "kernelspec": {
   "display_name": "Python 3 (ipykernel)",
   "language": "python",
   "name": "python3"
  },
  "language_info": {
   "codemirror_mode": {
    "name": "ipython",
    "version": 3
   },
   "file_extension": ".py",
   "mimetype": "text/x-python",
   "name": "python",
   "nbconvert_exporter": "python",
   "pygments_lexer": "ipython3",
   "version": "3.9.7"
  }
 },
 "nbformat": 4,
 "nbformat_minor": 5
}
